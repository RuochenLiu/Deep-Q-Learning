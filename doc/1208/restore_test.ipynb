{
 "cells": [
  {
   "cell_type": "code",
   "execution_count": 1,
   "metadata": {},
   "outputs": [
    {
     "name": "stderr",
     "output_type": "stream",
     "text": [
      "[2017-12-13 10:22:10,850] Making new env: SpaceInvaders-v4\n"
     ]
    }
   ],
   "source": [
    "import gym\n",
    "import random\n",
    "import numpy as np\n",
    "import tensorflow as tf\n",
    "import matplotlib.pyplot as plt\n",
    "import cv2\n",
    "import os\n",
    "import os.path\n",
    "from datetime import datetime\n",
    "\n",
    "env = gym.make('SpaceInvaders-v4')"
   ]
  },
  {
   "cell_type": "code",
   "execution_count": 2,
   "metadata": {
    "collapsed": true
   },
   "outputs": [],
   "source": [
    "def conv(x, W):\n",
    "    \"\"\"simple wrapper for tf.nn.conv2d\"\"\"\n",
    "    return tf.nn.conv2d(x, W, strides=[1, 1, 1, 1], padding='SAME')\n",
    "\n",
    "def maxpool(x):\n",
    "    \"\"\"simple wrapper for tf.nn.max_pool with stride size 2\"\"\"\n",
    "    return tf.nn.max_pool(x, ksize=[1, 2, 2, 1], strides=[1, 2, 2, 1], padding='SAME')\n",
    "\n",
    "def preprocess(obs):\n",
    "    obs = cv2.cvtColor(cv2.resize(obs,(84, 110)), cv2.COLOR_BGR2GRAY)\n",
    "    obs = obs[26:110,:]\n",
    "    ret, obs = cv2.threshold(obs,1,255,cv2.THRESH_BINARY)\n",
    "    return np.reshape(obs, [84,84,1])"
   ]
  },
  {
   "cell_type": "code",
   "execution_count": 3,
   "metadata": {
    "collapsed": true
   },
   "outputs": [],
   "source": [
    "class Replay:\n",
    "    def __init__(self):\n",
    "        self.buffer = []\n",
    "        self.length = 0\n",
    "        self.max_length = 100000\n",
    "        \n",
    "    def write(self, data):\n",
    "        if self.length >= self.max_length:\n",
    "            self.buffer.pop(0)\n",
    "            self.length -= 1\n",
    "        self.buffer.append(data)\n",
    "        self.length += 1\n",
    "        \n",
    "    def read(self, batch_size):\n",
    "        return random.sample(self.buffer,min(batch_size,self.length))"
   ]
  },
  {
   "cell_type": "code",
   "execution_count": 4,
   "metadata": {},
   "outputs": [
    {
     "name": "stdout",
     "output_type": "stream",
     "text": [
      "INFO:tensorflow:Restoring parameters from ./model/trained_model-1000\n"
     ]
    },
    {
     "name": "stderr",
     "output_type": "stream",
     "text": [
      "[2017-12-13 10:22:11,682] Restoring parameters from ./model/trained_model-1000\n"
     ]
    }
   ],
   "source": [
    "sess = tf.Session()\n",
    "\n",
    "#sess.run(tf.global_variables_initializer()) \n",
    "\n",
    "saver = tf.train.import_meta_graph('./model/trained_model-1000.meta')\n",
    "saver.restore(sess,tf.train.latest_checkpoint('./model/'))\n",
    "\n",
    "W_conv1 = sess.run('W_conv1:0')\n",
    "W_conv2 = sess.run('W_conv2:0')\n",
    "b_conv1 = sess.run('b_conv1:0')\n",
    "b_conv2 = sess.run('b_conv2:0')\n",
    "W_fc1 = sess.run('W_fc1:0')\n",
    "b_fc1 = sess.run('b_fc1:0')\n",
    "W_fc2 = sess.run('W_fc2:0')\n",
    "b_fc2 = sess.run('b_fc2:0')"
   ]
  },
  {
   "cell_type": "code",
   "execution_count": 5,
   "metadata": {
    "collapsed": true
   },
   "outputs": [],
   "source": [
    "class Network:\n",
    "    \n",
    "    def __init__(self, session, image_size, n_out):\n",
    "        \n",
    "        self.session = session\n",
    "        self.image_size = image_size\n",
    "        self.h, self.w, self.num_channels = self.image_size\n",
    "        self.n_out = n_out\n",
    "        self.n1 = 8\n",
    "        self.n2 = 16\n",
    "        self.n3 = 256\n",
    "        \n",
    "        \n",
    "        self.x = tf.placeholder(tf.float32, [None, self.h, self.w, self.num_channels], name='x')\n",
    "        self.y = tf.placeholder(tf.float32, [None, self.n_out], name='y')\n",
    "        self.x_image = tf.reshape(self.x, [-1, self.h, self.w, self.num_channels])\n",
    "        \n",
    "        self.W_conv1 = tf.get_variable('W_conv1', initializer = W_conv1)\n",
    "        self.b_conv1 = tf.get_variable('b_conv1', initializer = b_conv1)\n",
    "        self.h_conv1 = tf.nn.relu(tf.add(conv(self.x_image, self.W_conv1), self.b_conv1))\n",
    "        \n",
    "        self.h_pool1 = maxpool(self.h_conv1)\n",
    "        \n",
    "        self.W_conv2 = tf.get_variable('W_conv2', initializer = W_conv2)\n",
    "        self.b_conv2 = tf.get_variable('b_conv2', initializer = b_conv2)\n",
    "        self.h_conv2 = tf.nn.relu(tf.add(conv(self.h_pool1, self.W_conv2), self.b_conv2))\n",
    "        \n",
    "        self.h_pool2 = maxpool(self.h_conv2)\n",
    "        \n",
    "        self.h_pool2_flat = tf.reshape(self.h_pool2, [-1, int(self.h/4)*int(self.w/4)*self.n2])\n",
    "        self.W_fc1 = tf.get_variable('W_fc1', initializer = W_fc1)\n",
    "        self.b_fc1 = tf.get_variable('b_fc1', initializer = b_fc1)\n",
    "        self.h_fc1 = tf.nn.relu(tf.add(tf.matmul(self.h_pool2_flat, self.W_fc1), self.b_fc1))\n",
    "        \n",
    "        self.W_fc2 = tf.get_variable('W_fc2', initializer = W_fc2)\n",
    "        self.b_fc2 = tf.get_variable('b_fc2', initializer = b_fc2)\n",
    "        self.q = tf.add(tf.matmul(self.h_fc1, self.W_fc2), self.b_fc2, name='q_values')\n",
    "        \n",
    "        \n",
    "        self.loss = tf.reduce_sum(tf.square(self.y - self.q),1)\n",
    "        self.train_step = tf.train.AdamOptimizer().minimize(self.loss)\n",
    "    \n",
    "    def compute(self, x):\n",
    "        \n",
    "        return self.session.run(self.q, feed_dict={self.x:np.reshape(x,[-1, self.h, self.w, self.num_channels])})\n",
    "    \n",
    "    def train(self, x_batch, y_batch):\n",
    "        \n",
    "        _ = self.session.run(self.train_step, feed_dict={self.x: x_batch, self.y: y_batch})\n",
    "\n",
    "\n",
    "\n",
    "class Agent: \n",
    "    \n",
    "    def __init__(self, tf_session):\n",
    "        self.image_size = (84, 84, 1)\n",
    "        self.h, self.w, self.num_channels = self.image_size\n",
    "        self.n_out = 6\n",
    "        \n",
    "        self.total_reward = 0 \n",
    "        \n",
    "        self.gamma = 1\n",
    "        self.epsilon = 1\n",
    "        self.batch_size = 25\n",
    "        \n",
    "        self.replay_buffer = Replay()\n",
    "        \n",
    "        self.q = Network(tf_session, self.image_size , self.n_out)           \n",
    "        \n",
    "    def gather_experience(self, last_observation, action, reward, observation):\n",
    "        \n",
    "        self.replay_buffer.write((last_observation, action, reward, observation))\n",
    "            \n",
    "    def choose_action(self, observation):\n",
    "        \n",
    "        if np.random.rand() > self.epsilon:\n",
    "            q_compute = self.q.compute(observation)\n",
    "            return np.argmax(q_compute)\n",
    "        else:\n",
    "            return np.random.choice(list(range(6)))\n",
    "        \n",
    "    def q_update(self):\n",
    "        \n",
    "        sars_batch = self.replay_buffer.read(self.batch_size)\n",
    "        \n",
    "        q_last = self.q.compute([s[0] for s in sars_batch])\n",
    "        \n",
    "        q_this = np.zeros_like(q_last)\n",
    "        ind_not_none = [i for i in range(np.shape(sars_batch)[0]) if sars_batch[i][3] is not None]\n",
    "        q_this_not_none = self.q.compute([sb[3] for sb in sars_batch if sb[3] is not None])\n",
    "        \n",
    "        for i in range(len(ind_not_none)):\n",
    "            q_this[ind_not_none[i],:] = q_this_not_none[i,:]\n",
    "        \n",
    "        x_batch = np.zeros([np.shape(sars_batch)[0],self.h, self.w, self.num_channels])\n",
    "        y_batch = np.zeros([np.shape(sars_batch)[0],self.n_out])\n",
    "        for i in range(np.shape(sars_batch)[0]):\n",
    "            x_batch[i,:] = sars_batch[i][0]\n",
    "            for j in range(6):\n",
    "                if j == sars_batch[i][1]:\n",
    "                    y_batch[i,j] = sars_batch[i][2] + self.gamma*np.max(q_this[i])\n",
    "                else:\n",
    "                    y_batch[i,j] = q_last[i][j]\n",
    "        \n",
    "        self.q.train(x_batch,y_batch)\n",
    "\n",
    "    def set_epsilon(self,episode):\n",
    "        self.epsilon = 0.01 + (1.0 - 0.01)*np.exp(-.001*episode)\n",
    "        \n",
    "    def reset_epsilon(self):\n",
    "        self.epsilon = 0.0\n",
    "\n",
    "    def gather_reward(self, reward):\n",
    "        self.total_reward += reward\n",
    "    def get_total_reward(self):\n",
    "         return self.total_reward\n",
    "    def set_total_reward(self, new_total):\n",
    "         self.total_reward = new_total"
   ]
  },
  {
   "cell_type": "markdown",
   "metadata": {},
   "source": [
    "## *Restore and Test*"
   ]
  },
  {
   "cell_type": "code",
   "execution_count": null,
   "metadata": {
    "collapsed": true,
    "scrolled": true
   },
   "outputs": [],
   "source": [
    "sess = tf.Session()\n",
    "agent = Agent(sess)\n",
    "sess.run(tf.global_variables_initializer())"
   ]
  },
  {
   "cell_type": "code",
   "execution_count": null,
   "metadata": {},
   "outputs": [
    {
     "name": "stdout",
     "output_type": "stream",
     "text": [
      "After 50 episodes, last 50 rewards averaged 223.0\n"
     ]
    }
   ],
   "source": [
    "test_rewards = []\n",
    "for ep in range(200): \n",
    "    \n",
    "    last_observation = preprocess(env.reset())\n",
    "    agent.set_total_reward(0)\n",
    "    agent.reset_epsilon()\n",
    "    \n",
    "    for t in range(10000):\n",
    "        env.render()\n",
    "        action = agent.choose_action(last_observation)\n",
    "        observation, reward, done, info = env.step(action)\n",
    "        agent.gather_reward(reward)\n",
    "        last_observation = preprocess(observation)\n",
    "        if done==True or t == 9999:\n",
    "            test_rewards.append(agent.get_total_reward())\n",
    "            break\n",
    "    \n",
    "    if (ep+1) % 50 == 0:\n",
    "        print('After {} episodes, last 50 rewards averaged {}'.format(ep+1, np.mean(test_rewards[-50:])))\n",
    "        \n",
    "plt.plot(test_rewards, linewidth=2)\n",
    "plt.xlabel('episode')\n",
    "plt.ylabel('total reward per episode')\n",
    "plt.title('DQN SpaceInvaders Testing')\n",
    "plt.show()"
   ]
  }
 ],
 "metadata": {
  "kernelspec": {
   "display_name": "Python 3",
   "language": "python",
   "name": "python3"
  },
  "language_info": {
   "codemirror_mode": {
    "name": "ipython",
    "version": 3
   },
   "file_extension": ".py",
   "mimetype": "text/x-python",
   "name": "python",
   "nbconvert_exporter": "python",
   "pygments_lexer": "ipython3",
   "version": "3.6.3"
  }
 },
 "nbformat": 4,
 "nbformat_minor": 2
}
